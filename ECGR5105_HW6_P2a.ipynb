{
  "nbformat": 4,
  "nbformat_minor": 0,
  "metadata": {
    "colab": {
      "provenance": [],
      "authorship_tag": "ABX9TyMooWK08u5kmUJaT2gNOWoG",
      "include_colab_link": true
    },
    "kernelspec": {
      "name": "python3",
      "display_name": "Python 3"
    },
    "language_info": {
      "name": "python"
    }
  },
  "cells": [
    {
      "cell_type": "markdown",
      "metadata": {
        "id": "view-in-github",
        "colab_type": "text"
      },
      "source": [
        "<a href=\"https://colab.research.google.com/github/Braelin2/ECGR5105HW6/blob/main/ECGR5105_HW6_P2a.ipynb\" target=\"_parent\"><img src=\"https://colab.research.google.com/assets/colab-badge.svg\" alt=\"Open In Colab\"/></a>"
      ]
    },
    {
      "cell_type": "code",
      "execution_count": 46,
      "metadata": {
        "id": "GYV75zUqG7A6",
        "colab": {
          "base_uri": "https://localhost:8080/"
        },
        "outputId": "65d50685-9da8-4735-b833-9abae20b86eb"
      },
      "outputs": [
        {
          "output_type": "stream",
          "name": "stdout",
          "text": [
            "Requirement already satisfied: ipython-autotime in /usr/local/lib/python3.10/dist-packages (0.3.2)\n",
            "Requirement already satisfied: ipython in /usr/local/lib/python3.10/dist-packages (from ipython-autotime) (7.34.0)\n",
            "Requirement already satisfied: setuptools>=18.5 in /usr/local/lib/python3.10/dist-packages (from ipython->ipython-autotime) (67.7.2)\n",
            "Requirement already satisfied: jedi>=0.16 in /usr/local/lib/python3.10/dist-packages (from ipython->ipython-autotime) (0.19.1)\n",
            "Requirement already satisfied: decorator in /usr/local/lib/python3.10/dist-packages (from ipython->ipython-autotime) (4.4.2)\n",
            "Requirement already satisfied: pickleshare in /usr/local/lib/python3.10/dist-packages (from ipython->ipython-autotime) (0.7.5)\n",
            "Requirement already satisfied: traitlets>=4.2 in /usr/local/lib/python3.10/dist-packages (from ipython->ipython-autotime) (5.7.1)\n",
            "Requirement already satisfied: prompt-toolkit!=3.0.0,!=3.0.1,<3.1.0,>=2.0.0 in /usr/local/lib/python3.10/dist-packages (from ipython->ipython-autotime) (3.0.41)\n",
            "Requirement already satisfied: pygments in /usr/local/lib/python3.10/dist-packages (from ipython->ipython-autotime) (2.16.1)\n",
            "Requirement already satisfied: backcall in /usr/local/lib/python3.10/dist-packages (from ipython->ipython-autotime) (0.2.0)\n",
            "Requirement already satisfied: matplotlib-inline in /usr/local/lib/python3.10/dist-packages (from ipython->ipython-autotime) (0.1.6)\n",
            "Requirement already satisfied: pexpect>4.3 in /usr/local/lib/python3.10/dist-packages (from ipython->ipython-autotime) (4.9.0)\n",
            "Requirement already satisfied: parso<0.9.0,>=0.8.3 in /usr/local/lib/python3.10/dist-packages (from jedi>=0.16->ipython->ipython-autotime) (0.8.3)\n",
            "Requirement already satisfied: ptyprocess>=0.5 in /usr/local/lib/python3.10/dist-packages (from pexpect>4.3->ipython->ipython-autotime) (0.7.0)\n",
            "Requirement already satisfied: wcwidth in /usr/local/lib/python3.10/dist-packages (from prompt-toolkit!=3.0.0,!=3.0.1,<3.1.0,>=2.0.0->ipython->ipython-autotime) (0.2.12)\n",
            "The autotime extension is already loaded. To reload it, use:\n",
            "  %reload_ext autotime\n",
            "time: 8.56 s (started: 2023-12-02 02:36:59 +00:00)\n"
          ]
        }
      ],
      "source": [
        "import numpy as np\n",
        "import pandas as pd\n",
        "import matplotlib.pyplot as plt\n",
        "import seaborn as sns\n",
        "import torch as torch\n",
        "import torch.optim as optim\n",
        "import torch.nn as nn\n",
        "\n",
        "!pip install ipython-autotime\n",
        "%load_ext autotime"
      ]
    },
    {
      "cell_type": "code",
      "source": [
        "from torchvision import datasets\n",
        "data_path = '../data-unversioned/p1ch7/'\n",
        "cifar10 = datasets.CIFAR10(data_path, train=True, download=True) # <1>\n",
        "cifar10_val = datasets.CIFAR10(data_path, train=False, download=True) # <2>\n"
      ],
      "metadata": {
        "id": "hRaw-CoHHNwY",
        "colab": {
          "base_uri": "https://localhost:8080/"
        },
        "outputId": "0e929b2f-c6c6-4d2f-f46d-2f1815f09c7c"
      },
      "execution_count": 47,
      "outputs": [
        {
          "output_type": "stream",
          "name": "stdout",
          "text": [
            "Files already downloaded and verified\n",
            "Files already downloaded and verified\n",
            "time: 2.11 s (started: 2023-12-02 02:37:11 +00:00)\n"
          ]
        }
      ]
    },
    {
      "cell_type": "code",
      "source": [
        "print(len(cifar10))\n",
        "\n",
        "img, label = cifar10[3]\n",
        "\n",
        "plt.imshow(img)\n",
        "plt.show()"
      ],
      "metadata": {
        "colab": {
          "base_uri": "https://localhost:8080/",
          "height": 465
        },
        "id": "D8DJrSwbGrF2",
        "outputId": "ac6cc98d-feea-432b-f9f7-e2ac8b9001f4"
      },
      "execution_count": 48,
      "outputs": [
        {
          "output_type": "stream",
          "name": "stdout",
          "text": [
            "50000\n"
          ]
        },
        {
          "output_type": "display_data",
          "data": {
            "text/plain": [
              "<Figure size 640x480 with 1 Axes>"
            ],
            "image/png": "[encoded data removed]"
          },
          "metadata": {}
        },
        {
          "output_type": "stream",
          "name": "stdout",
          "text": [
            "time: 433 ms (started: 2023-12-02 02:37:15 +00:00)\n"
          ]
        }
      ]
    },
    {
      "cell_type": "code",
      "source": [
        "from torchvision import transforms\n",
        "\n",
        "to_tensor = transforms.ToTensor()\n",
        "img_t = to_tensor(img)\n",
        "img_t.shape\n",
        "\n",
        "cifar10_train_t = datasets.CIFAR10(data_path, train = True, download = False, transform = transforms.ToTensor())\n",
        "cifar10_test_t = datasets.CIFAR10(data_path, train = False, download = False, transform = transforms.ToTensor())\n"
      ],
      "metadata": {
        "colab": {
          "base_uri": "https://localhost:8080/"
        },
        "id": "_Z0nzKLHGJob",
        "outputId": "d5d29c7b-bab7-4f24-97ce-542ff5a36738"
      },
      "execution_count": 49,
      "outputs": [
        {
          "output_type": "stream",
          "name": "stdout",
          "text": [
            "time: 1.81 s (started: 2023-12-02 02:37:21 +00:00)\n"
          ]
        }
      ]
    },
    {
      "cell_type": "code",
      "source": [
        "img_t, _ = cifar10_train_t[3]\n",
        "\n",
        "plt.imshow(img_t.permute(1,2,0))\n",
        "plt.show()"
      ],
      "metadata": {
        "colab": {
          "base_uri": "https://localhost:8080/",
          "height": 447
        },
        "id": "693zWNdMHwc1",
        "outputId": "baf029cd-a90f-4781-ed84-b57527676a9b"
      },
      "execution_count": 50,
      "outputs": [
        {
          "output_type": "display_data",
          "data": {
            "text/plain": [
              "<Figure size 640x480 with 1 Axes>"
            ],
            "image/png": "[encoded data removed]"
          },
          "metadata": {}
        },
        {
          "output_type": "stream",
          "name": "stdout",
          "text": [
            "time: 360 ms (started: 2023-12-02 02:37:25 +00:00)\n"
          ]
        }
      ]
    },
    {
      "cell_type": "code",
      "source": [
        "imgs = torch.stack([img_t for img_t, _ in cifar10_train_t], dim = 3)\n",
        "#imgs.shape\n",
        "\n",
        "\n"
      ],
      "metadata": {
        "colab": {
          "base_uri": "https://localhost:8080/"
        },
        "id": "gxg_sg-SIbni",
        "outputId": "1497ff9e-dc3b-4caa-dd96-d38e35e809a8"
      },
      "execution_count": 51,
      "outputs": [
        {
          "output_type": "stream",
          "name": "stdout",
          "text": [
            "time: 14 s (started: 2023-12-02 02:37:30 +00:00)\n"
          ]
        }
      ]
    },
    {
      "cell_type": "code",
      "source": [
        "imgs.view(3,-1).mean(dim=1)"
      ],
      "metadata": {
        "colab": {
          "base_uri": "https://localhost:8080/"
        },
        "id": "U1EUXA0bJLU7",
        "outputId": "3a550711-f358-41c7-8e37-ab4c3d6e0250"
      },
      "execution_count": 52,
      "outputs": [
        {
          "output_type": "execute_result",
          "data": {
            "text/plain": [
              "tensor([0.4914, 0.4822, 0.4465])"
            ]
          },
          "metadata": {},
          "execution_count": 52
        },
        {
          "output_type": "stream",
          "name": "stdout",
          "text": [
            "time: 63.3 ms (started: 2023-12-02 02:37:51 +00:00)\n"
          ]
        }
      ]
    },
    {
      "cell_type": "code",
      "source": [
        "imgs.view(3,-1).std(dim=1)"
      ],
      "metadata": {
        "colab": {
          "base_uri": "https://localhost:8080/"
        },
        "id": "ACn5KPlBJMrE",
        "outputId": "3cdf11d6-4b4f-4c2d-8134-595bf209210a"
      },
      "execution_count": 53,
      "outputs": [
        {
          "output_type": "execute_result",
          "data": {
            "text/plain": [
              "tensor([0.2470, 0.2435, 0.2616])"
            ]
          },
          "metadata": {},
          "execution_count": 53
        },
        {
          "output_type": "stream",
          "name": "stdout",
          "text": [
            "time: 1.32 s (started: 2023-12-02 02:38:01 +00:00)\n"
          ]
        }
      ]
    },
    {
      "cell_type": "code",
      "source": [
        "transforms.Normalize((0.4914, 0.4822, 0.4465),(0.2470, 0.2435, 0.2616))"
      ],
      "metadata": {
        "colab": {
          "base_uri": "https://localhost:8080/"
        },
        "id": "B36P2-OAJPAt",
        "outputId": "19f2f217-afd0-4d02-d20f-fc0dcdf9c48c"
      },
      "execution_count": 54,
      "outputs": [
        {
          "output_type": "execute_result",
          "data": {
            "text/plain": [
              "Normalize(mean=(0.4914, 0.4822, 0.4465), std=(0.247, 0.2435, 0.2616))"
            ]
          },
          "metadata": {},
          "execution_count": 54
        },
        {
          "output_type": "stream",
          "name": "stdout",
          "text": [
            "time: 3.76 ms (started: 2023-12-02 02:38:03 +00:00)\n"
          ]
        }
      ]
    },
    {
      "cell_type": "code",
      "source": [
        "transformed_cifar10_train = datasets.CIFAR10(data_path, train = True, download = False,\n",
        "                                            transform = transforms.Compose([transforms.ToTensor(), transforms.Normalize((0.4914, 0.4822, 0.4465),(0.2470, 0.2435, 0.2616))]))\n",
        "\n",
        "transformed_cifar10_test = datasets.CIFAR10(data_path, train = False, download = False,\n",
        "                                            transform = transforms.Compose([transforms.ToTensor(), transforms.Normalize((0.4914, 0.4822, 0.4465),(0.2470, 0.2435, 0.2616))]))"
      ],
      "metadata": {
        "colab": {
          "base_uri": "https://localhost:8080/"
        },
        "id": "GlFygYAQJaic",
        "outputId": "b33c7a42-faa4-4fbf-8e40-e651b4fd7e63"
      },
      "execution_count": 55,
      "outputs": [
        {
          "output_type": "stream",
          "name": "stdout",
          "text": [
            "time: 958 ms (started: 2023-12-02 02:38:05 +00:00)\n"
          ]
        }
      ]
    },
    {
      "cell_type": "code",
      "source": [
        "img_t, _ = transformed_cifar10_train[3]\n",
        "\n",
        "plt.imshow(img_t.permute(1,2,0))\n",
        "plt.show()"
      ],
      "metadata": {
        "colab": {
          "base_uri": "https://localhost:8080/",
          "height": 465
        },
        "id": "0LjyNtG0KE2-",
        "outputId": "51a612c5-8d7f-4d3d-b513-37bce3df1fa2"
      },
      "execution_count": 56,
      "outputs": [
        {
          "output_type": "stream",
          "name": "stderr",
          "text": [
            "WARNING:matplotlib.image:Clipping input data to the valid range for imshow with RGB data ([0..1] for floats or [0..255] for integers).\n"
          ]
        },
        {
          "output_type": "display_data",
          "data": {
            "text/plain": [
              "<Figure size 640x480 with 1 Axes>"
            ],
            "image/png": "[encoded data removed]"
          },
          "metadata": {}
        },
        {
          "output_type": "stream",
          "name": "stdout",
          "text": [
            "time: 208 ms (started: 2023-12-02 02:38:08 +00:00)\n"
          ]
        }
      ]
    },
    {
      "cell_type": "code",
      "source": [
        "train_loader = torch.utils.data.DataLoader(transformed_cifar10_train, batch_size=64, shuffle=True)\n",
        "\n",
        "model = nn.Sequential(nn.Linear(3072, 512), nn.Tanh(), nn.Linear(512, 10))\n",
        "\n",
        "optimizer = optim.SGD(model.parameters(), lr=1e-3)\n",
        "\n",
        "loss_fn = nn.CrossEntropyLoss()\n",
        "\n",
        "n_epochs = 100"
      ],
      "metadata": {
        "colab": {
          "base_uri": "https://localhost:8080/"
        },
        "id": "yhq4Go_FKVHZ",
        "outputId": "cf561e64-f92a-4583-94f6-3fc7ea54a60a"
      },
      "execution_count": 57,
      "outputs": [
        {
          "output_type": "stream",
          "name": "stdout",
          "text": [
            "time: 19.4 ms (started: 2023-12-02 02:38:11 +00:00)\n"
          ]
        }
      ]
    },
    {
      "cell_type": "code",
      "source": [
        "for epoch in range(n_epochs):\n",
        "  for imgs, labels in train_loader:\n",
        "    batch_size = imgs.shape[0]\n",
        "    outputs = model(imgs.view(batch_size, -1))\n",
        "    loss = loss_fn(outputs, labels)\n",
        "\n",
        "    optimizer.zero_grad()\n",
        "    loss.backward()\n",
        "    optimizer.step()\n",
        "\n",
        "  print(\"Epoch: %d, Loss: %f\" % (epoch, float(loss)))"
      ],
      "metadata": {
        "colab": {
          "base_uri": "https://localhost:8080/"
        },
        "id": "wnkUrFzKNE4H",
        "outputId": "496a8e24-39f1-441b-8c53-d9326580d3f1"
      },
      "execution_count": 58,
      "outputs": [
        {
          "output_type": "stream",
          "name": "stdout",
          "text": [
            "Epoch: 0, Loss: 2.297484\n",
            "Epoch: 1, Loss: 1.345752\n",
            "Epoch: 2, Loss: 1.954965\n",
            "Epoch: 3, Loss: 2.030562\n",
            "Epoch: 4, Loss: 1.595050\n",
            "Epoch: 5, Loss: 1.723946\n",
            "Epoch: 6, Loss: 1.514890\n",
            "Epoch: 7, Loss: 1.804181\n",
            "Epoch: 8, Loss: 1.748773\n",
            "Epoch: 9, Loss: 2.081876\n",
            "Epoch: 10, Loss: 1.825911\n",
            "Epoch: 11, Loss: 1.419759\n",
            "Epoch: 12, Loss: 1.309417\n",
            "Epoch: 13, Loss: 1.683790\n",
            "Epoch: 14, Loss: 1.709401\n",
            "Epoch: 15, Loss: 1.907732\n",
            "Epoch: 16, Loss: 1.372549\n",
            "Epoch: 17, Loss: 1.510088\n",
            "Epoch: 18, Loss: 1.801955\n",
            "Epoch: 19, Loss: 1.494885\n",
            "Epoch: 20, Loss: 1.491810\n",
            "Epoch: 21, Loss: 1.477561\n",
            "Epoch: 22, Loss: 1.410873\n",
            "Epoch: 23, Loss: 1.957525\n",
            "Epoch: 24, Loss: 1.456182\n",
            "Epoch: 25, Loss: 1.172029\n",
            "Epoch: 26, Loss: 1.787056\n",
            "Epoch: 27, Loss: 1.616694\n",
            "Epoch: 28, Loss: 1.942243\n",
            "Epoch: 29, Loss: 1.754126\n",
            "Epoch: 30, Loss: 1.295626\n",
            "Epoch: 31, Loss: 2.123542\n",
            "Epoch: 32, Loss: 1.251279\n",
            "Epoch: 33, Loss: 1.605781\n",
            "Epoch: 34, Loss: 1.578850\n",
            "Epoch: 35, Loss: 1.886302\n",
            "Epoch: 36, Loss: 1.400659\n",
            "Epoch: 37, Loss: 1.630759\n",
            "Epoch: 38, Loss: 1.727208\n",
            "Epoch: 39, Loss: 1.577119\n",
            "Epoch: 40, Loss: 1.432787\n",
            "Epoch: 41, Loss: 2.015267\n",
            "Epoch: 42, Loss: 2.161695\n",
            "Epoch: 43, Loss: 1.264136\n",
            "Epoch: 44, Loss: 1.892572\n",
            "Epoch: 45, Loss: 1.666931\n",
            "Epoch: 46, Loss: 1.451216\n",
            "Epoch: 47, Loss: 1.382435\n",
            "Epoch: 48, Loss: 1.568615\n",
            "Epoch: 49, Loss: 1.162832\n",
            "Epoch: 50, Loss: 1.686813\n",
            "Epoch: 51, Loss: 1.547390\n",
            "Epoch: 52, Loss: 1.343032\n",
            "Epoch: 53, Loss: 1.265974\n",
            "Epoch: 54, Loss: 1.415200\n",
            "Epoch: 55, Loss: 2.075345\n",
            "Epoch: 56, Loss: 1.518454\n",
            "Epoch: 57, Loss: 1.364771\n",
            "Epoch: 58, Loss: 1.010981\n",
            "Epoch: 59, Loss: 1.108427\n",
            "Epoch: 60, Loss: 1.009116\n",
            "Epoch: 61, Loss: 1.331363\n",
            "Epoch: 62, Loss: 1.012342\n",
            "Epoch: 63, Loss: 1.512423\n",
            "Epoch: 64, Loss: 1.533000\n",
            "Epoch: 65, Loss: 1.610542\n",
            "Epoch: 66, Loss: 1.200576\n",
            "Epoch: 67, Loss: 1.409860\n",
            "Epoch: 68, Loss: 1.480647\n",
            "Epoch: 69, Loss: 1.274436\n",
            "Epoch: 70, Loss: 1.127602\n",
            "Epoch: 71, Loss: 1.267013\n",
            "Epoch: 72, Loss: 1.364665\n",
            "Epoch: 73, Loss: 1.604994\n",
            "Epoch: 74, Loss: 1.246428\n",
            "Epoch: 75, Loss: 1.758015\n",
            "Epoch: 76, Loss: 1.401280\n",
            "Epoch: 77, Loss: 1.129809\n",
            "Epoch: 78, Loss: 1.669758\n",
            "Epoch: 79, Loss: 1.492227\n",
            "Epoch: 80, Loss: 1.204016\n",
            "Epoch: 81, Loss: 1.557492\n",
            "Epoch: 82, Loss: 1.341247\n",
            "Epoch: 83, Loss: 1.800146\n",
            "Epoch: 84, Loss: 1.716223\n",
            "Epoch: 85, Loss: 1.277869\n",
            "Epoch: 86, Loss: 1.256841\n",
            "Epoch: 87, Loss: 1.263291\n",
            "Epoch: 88, Loss: 1.048317\n",
            "Epoch: 89, Loss: 1.610176\n",
            "Epoch: 90, Loss: 1.462031\n",
            "Epoch: 91, Loss: 0.874825\n",
            "Epoch: 92, Loss: 0.980557\n",
            "Epoch: 93, Loss: 1.438910\n",
            "Epoch: 94, Loss: 1.123617\n",
            "Epoch: 95, Loss: 1.114947\n",
            "Epoch: 96, Loss: 1.481845\n",
            "Epoch: 97, Loss: 0.946999\n",
            "Epoch: 98, Loss: 1.350095\n",
            "Epoch: 99, Loss: 1.589894\n",
            "time: 37min 50s (started: 2023-12-02 02:38:18 +00:00)\n"
          ]
        }
      ]
    },
    {
      "cell_type": "code",
      "source": [
        "train_loader = torch.utils.data.DataLoader(transformed_cifar10_train, batch_size=64,shuffle=False)\n",
        "\n",
        "correct = 0\n",
        "total = 0\n",
        "\n",
        "with torch.no_grad():\n",
        "    for imgs, labels in train_loader:\n",
        "        outputs_training = model(imgs.view(imgs.shape[0], -1))\n",
        "        _, predicted = torch.max(outputs_training, dim=1)\n",
        "        total += labels.shape[0]\n",
        "        correct += int((predicted == labels).sum())\n",
        "\n",
        "print(\"Accuracy: %f\" % (correct / total))"
      ],
      "metadata": {
        "colab": {
          "base_uri": "https://localhost:8080/"
        },
        "id": "UdROQ9uFOkqU",
        "outputId": "cd31122f-d669-4bca-ab5c-8248b8e5bef2"
      },
      "execution_count": 59,
      "outputs": [
        {
          "output_type": "stream",
          "name": "stdout",
          "text": [
            "Accuracy: 0.594880\n",
            "time: 19.2 s (started: 2023-12-02 03:16:17 +00:00)\n"
          ]
        }
      ]
    },
    {
      "cell_type": "code",
      "source": [
        "test_loader = torch.utils.data.DataLoader(transformed_cifar10_test, batch_size=64, shuffle=False)\n",
        "\n",
        "correct = 0\n",
        "total = 0\n",
        "\n",
        "with torch.no_grad():\n",
        "    for imgs, labels in test_loader:\n",
        "        outputs_testing = model(imgs.view(imgs.shape[0], -1))\n",
        "        _, predicted = torch.max(outputs_testing, dim=1)\n",
        "        total += labels.shape[0]\n",
        "        correct += int((predicted == labels).sum())\n",
        "\n",
        "print(\"Accuracy1: %f\" % (correct / total))"
      ],
      "metadata": {
        "colab": {
          "base_uri": "https://localhost:8080/"
        },
        "id": "sZfg5USnS1LX",
        "outputId": "4ba384b0-6255-49af-ad82-f2ff83bc93da"
      },
      "execution_count": 60,
      "outputs": [
        {
          "output_type": "stream",
          "name": "stdout",
          "text": [
            "Accuracy1: 0.491400\n",
            "time: 3.32 s (started: 2023-12-02 03:16:40 +00:00)\n"
          ]
        }
      ]
    },
    {
      "cell_type": "code",
      "source": [
        "print(sum([p.numel() for p in model.parameters()]))"
      ],
      "metadata": {
        "colab": {
          "base_uri": "https://localhost:8080/"
        },
        "id": "OhXiOqGNDMsB",
        "outputId": "21bd94b1-1441-4286-b871-f3d636af96b3"
      },
      "execution_count": 61,
      "outputs": [
        {
          "output_type": "stream",
          "name": "stdout",
          "text": [
            "1578506\n",
            "time: 580 µs (started: 2023-12-02 03:16:51 +00:00)\n"
          ]
        }
      ]
    }
  ]
}