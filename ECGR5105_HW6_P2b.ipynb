{
  "nbformat": 4,
  "nbformat_minor": 0,
  "metadata": {
    "colab": {
      "provenance": [],
      "authorship_tag": "ABX9TyMeYvjOYeBXhAfc3DsO3aEb",
      "include_colab_link": true
    },
    "kernelspec": {
      "name": "python3",
      "display_name": "Python 3"
    },
    "language_info": {
      "name": "python"
    }
  },
  "cells": [
    {
      "cell_type": "markdown",
      "metadata": {
        "id": "view-in-github",
        "colab_type": "text"
      },
      "source": [
        "<a href=\"https://colab.research.google.com/github/Braelin2/ECGR5105HW6/blob/main/ECGR5105_HW6_P2b.ipynb\" target=\"_parent\"><img src=\"https://colab.research.google.com/assets/colab-badge.svg\" alt=\"Open In Colab\"/></a>"
      ]
    },
    {
      "cell_type": "code",
      "execution_count": 15,
      "metadata": {
        "id": "GYV75zUqG7A6",
        "colab": {
          "base_uri": "https://localhost:8080/"
        },
        "outputId": "982acdd1-be0d-405f-d9ac-2dc1c8ea6d59"
      },
      "outputs": [
        {
          "output_type": "stream",
          "name": "stdout",
          "text": [
            "Requirement already satisfied: ipython-autotime in /usr/local/lib/python3.10/dist-packages (0.3.2)\n",
            "Requirement already satisfied: ipython in /usr/local/lib/python3.10/dist-packages (from ipython-autotime) (7.34.0)\n",
            "Requirement already satisfied: setuptools>=18.5 in /usr/local/lib/python3.10/dist-packages (from ipython->ipython-autotime) (67.7.2)\n",
            "Requirement already satisfied: jedi>=0.16 in /usr/local/lib/python3.10/dist-packages (from ipython->ipython-autotime) (0.19.1)\n",
            "Requirement already satisfied: decorator in /usr/local/lib/python3.10/dist-packages (from ipython->ipython-autotime) (4.4.2)\n",
            "Requirement already satisfied: pickleshare in /usr/local/lib/python3.10/dist-packages (from ipython->ipython-autotime) (0.7.5)\n",
            "Requirement already satisfied: traitlets>=4.2 in /usr/local/lib/python3.10/dist-packages (from ipython->ipython-autotime) (5.7.1)\n",
            "Requirement already satisfied: prompt-toolkit!=3.0.0,!=3.0.1,<3.1.0,>=2.0.0 in /usr/local/lib/python3.10/dist-packages (from ipython->ipython-autotime) (3.0.41)\n",
            "Requirement already satisfied: pygments in /usr/local/lib/python3.10/dist-packages (from ipython->ipython-autotime) (2.16.1)\n",
            "Requirement already satisfied: backcall in /usr/local/lib/python3.10/dist-packages (from ipython->ipython-autotime) (0.2.0)\n",
            "Requirement already satisfied: matplotlib-inline in /usr/local/lib/python3.10/dist-packages (from ipython->ipython-autotime) (0.1.6)\n",
            "Requirement already satisfied: pexpect>4.3 in /usr/local/lib/python3.10/dist-packages (from ipython->ipython-autotime) (4.9.0)\n",
            "Requirement already satisfied: parso<0.9.0,>=0.8.3 in /usr/local/lib/python3.10/dist-packages (from jedi>=0.16->ipython->ipython-autotime) (0.8.3)\n",
            "Requirement already satisfied: ptyprocess>=0.5 in /usr/local/lib/python3.10/dist-packages (from pexpect>4.3->ipython->ipython-autotime) (0.7.0)\n",
            "Requirement already satisfied: wcwidth in /usr/local/lib/python3.10/dist-packages (from prompt-toolkit!=3.0.0,!=3.0.1,<3.1.0,>=2.0.0->ipython->ipython-autotime) (0.2.12)\n",
            "The autotime extension is already loaded. To reload it, use:\n",
            "  %reload_ext autotime\n",
            "time: 7.04 s (started: 2023-12-02 02:36:29 +00:00)\n"
          ]
        }
      ],
      "source": [
        "import numpy as np\n",
        "import pandas as pd\n",
        "import matplotlib.pyplot as plt\n",
        "import seaborn as sns\n",
        "import torch as torch\n",
        "import torch.optim as optim\n",
        "import torch.nn as nn\n",
        "\n",
        "!pip install ipython-autotime\n",
        "%load_ext autotime"
      ]
    },
    {
      "cell_type": "code",
      "source": [
        "from torchvision import datasets\n",
        "data_path = '../data-unversioned/p1ch7/'\n",
        "cifar10 = datasets.CIFAR10(data_path, train=True, download=True) # <1>\n",
        "cifar10_val = datasets.CIFAR10(data_path, train=False, download=True) # <2>\n"
      ],
      "metadata": {
        "id": "hRaw-CoHHNwY",
        "colab": {
          "base_uri": "https://localhost:8080/"
        },
        "outputId": "0123187f-e75f-4bfc-ffd7-a7a671a36068"
      },
      "execution_count": 14,
      "outputs": [
        {
          "output_type": "stream",
          "name": "stdout",
          "text": [
            "Files already downloaded and verified\n",
            "Files already downloaded and verified\n",
            "time: 1.77 s (started: 2023-12-02 02:36:27 +00:00)\n"
          ]
        }
      ]
    },
    {
      "cell_type": "code",
      "source": [
        "print(len(cifar10))\n",
        "\n",
        "img, label = cifar10[3]\n",
        "\n",
        "plt.imshow(img)\n",
        "plt.show()"
      ],
      "metadata": {
        "colab": {
          "base_uri": "https://localhost:8080/",
          "height": 466
        },
        "id": "D8DJrSwbGrF2",
        "outputId": "bcb90e40-c6b0-4d0a-a505-78e973349ee9"
      },
      "execution_count": 16,
      "outputs": [
        {
          "output_type": "stream",
          "name": "stdout",
          "text": [
            "50000\n"
          ]
        },
        {
          "output_type": "display_data",
          "data": {
            "text/plain": [
              "<Figure size 640x480 with 1 Axes>"
            ],
            "image/png": "[encoded data removed]"
          },
          "metadata": {}
        },
        {
          "output_type": "stream",
          "name": "stdout",
          "text": [
            "time: 696 ms (started: 2023-12-02 02:36:44 +00:00)\n"
          ]
        }
      ]
    },
    {
      "cell_type": "code",
      "source": [
        "from torchvision import transforms\n",
        "\n",
        "to_tensor = transforms.ToTensor()\n",
        "img_t = to_tensor(img)\n",
        "img_t.shape\n",
        "\n",
        "cifar10_train_t = datasets.CIFAR10(data_path, train = True, download = False, transform = transforms.ToTensor())\n",
        "cifar10_test_t = datasets.CIFAR10(data_path, train = False, download = False, transform = transforms.ToTensor())\n"
      ],
      "metadata": {
        "id": "_Z0nzKLHGJob",
        "colab": {
          "base_uri": "https://localhost:8080/"
        },
        "outputId": "afa7248b-3a5f-4dbc-b00c-dae84c96ef89"
      },
      "execution_count": 17,
      "outputs": [
        {
          "output_type": "stream",
          "name": "stdout",
          "text": [
            "time: 3.48 s (started: 2023-12-02 02:36:48 +00:00)\n"
          ]
        }
      ]
    },
    {
      "cell_type": "code",
      "source": [
        "img_t, _ = cifar10_train_t[3]\n",
        "\n",
        "plt.imshow(img_t.permute(1,2,0))\n",
        "plt.show()"
      ],
      "metadata": {
        "colab": {
          "base_uri": "https://localhost:8080/",
          "height": 448
        },
        "id": "693zWNdMHwc1",
        "outputId": "75bc9fe5-9cc9-450a-983f-19eaf9109369"
      },
      "execution_count": 18,
      "outputs": [
        {
          "output_type": "display_data",
          "data": {
            "text/plain": [
              "<Figure size 640x480 with 1 Axes>"
            ],
            "image/png": "[encoded data removed]"
          },
          "metadata": {}
        },
        {
          "output_type": "stream",
          "name": "stdout",
          "text": [
            "time: 614 ms (started: 2023-12-02 02:36:56 +00:00)\n"
          ]
        }
      ]
    },
    {
      "cell_type": "code",
      "source": [
        "imgs = torch.stack([img_t for img_t, _ in cifar10_train_t], dim = 3)\n",
        "#imgs.shape\n",
        "\n",
        "\n"
      ],
      "metadata": {
        "id": "gxg_sg-SIbni",
        "colab": {
          "base_uri": "https://localhost:8080/"
        },
        "outputId": "9944d5f6-6c17-4f22-e8ae-3b4ba96569c6"
      },
      "execution_count": 19,
      "outputs": [
        {
          "output_type": "stream",
          "name": "stdout",
          "text": [
            "time: 21.2 s (started: 2023-12-02 02:37:02 +00:00)\n"
          ]
        }
      ]
    },
    {
      "cell_type": "code",
      "source": [
        "imgs.view(3,-1).mean(dim=1)"
      ],
      "metadata": {
        "colab": {
          "base_uri": "https://localhost:8080/"
        },
        "id": "U1EUXA0bJLU7",
        "outputId": "d25b87d1-ffc7-4992-e051-ea31c258ec0f"
      },
      "execution_count": 20,
      "outputs": [
        {
          "output_type": "execute_result",
          "data": {
            "text/plain": [
              "tensor([0.4914, 0.4822, 0.4465])"
            ]
          },
          "metadata": {},
          "execution_count": 20
        },
        {
          "output_type": "stream",
          "name": "stdout",
          "text": [
            "time: 74.2 ms (started: 2023-12-02 02:37:33 +00:00)\n"
          ]
        }
      ]
    },
    {
      "cell_type": "code",
      "source": [
        "imgs.view(3,-1).std(dim=1)"
      ],
      "metadata": {
        "colab": {
          "base_uri": "https://localhost:8080/"
        },
        "id": "ACn5KPlBJMrE",
        "outputId": "83070e81-e96c-4199-d6b4-98d18695493a"
      },
      "execution_count": 21,
      "outputs": [
        {
          "output_type": "execute_result",
          "data": {
            "text/plain": [
              "tensor([0.2470, 0.2435, 0.2616])"
            ]
          },
          "metadata": {},
          "execution_count": 21
        },
        {
          "output_type": "stream",
          "name": "stdout",
          "text": [
            "time: 1.34 s (started: 2023-12-02 02:37:34 +00:00)\n"
          ]
        }
      ]
    },
    {
      "cell_type": "code",
      "source": [
        "transforms.Normalize((0.4914, 0.4822, 0.4465),(0.2470, 0.2435, 0.2616))"
      ],
      "metadata": {
        "colab": {
          "base_uri": "https://localhost:8080/"
        },
        "id": "B36P2-OAJPAt",
        "outputId": "da21c562-0df9-45e4-f201-024c8bc75ccd"
      },
      "execution_count": 22,
      "outputs": [
        {
          "output_type": "execute_result",
          "data": {
            "text/plain": [
              "Normalize(mean=(0.4914, 0.4822, 0.4465), std=(0.247, 0.2435, 0.2616))"
            ]
          },
          "metadata": {},
          "execution_count": 22
        },
        {
          "output_type": "stream",
          "name": "stdout",
          "text": [
            "time: 3.21 ms (started: 2023-12-02 02:37:37 +00:00)\n"
          ]
        }
      ]
    },
    {
      "cell_type": "code",
      "source": [
        "transformed_cifar10_train = datasets.CIFAR10(data_path, train = True, download = False,\n",
        "                                            transform = transforms.Compose([transforms.ToTensor(), transforms.Normalize((0.4914, 0.4822, 0.4465),(0.2470, 0.2435, 0.2616))]))\n",
        "\n",
        "transformed_cifar10_test = datasets.CIFAR10(data_path, train = False, download = False,\n",
        "                                            transform = transforms.Compose([transforms.ToTensor(), transforms.Normalize((0.4914, 0.4822, 0.4465),(0.2470, 0.2435, 0.2616))]))"
      ],
      "metadata": {
        "id": "GlFygYAQJaic",
        "colab": {
          "base_uri": "https://localhost:8080/"
        },
        "outputId": "6e87d87d-a716-41cc-c5ca-f4c6829ea90a"
      },
      "execution_count": 23,
      "outputs": [
        {
          "output_type": "stream",
          "name": "stdout",
          "text": [
            "time: 1.12 s (started: 2023-12-02 02:37:38 +00:00)\n"
          ]
        }
      ]
    },
    {
      "cell_type": "code",
      "source": [
        "img_t, _ = transformed_cifar10_train[3]\n",
        "\n",
        "plt.imshow(img_t.permute(1,2,0))\n",
        "plt.show()"
      ],
      "metadata": {
        "colab": {
          "base_uri": "https://localhost:8080/",
          "height": 466
        },
        "id": "0LjyNtG0KE2-",
        "outputId": "86685de3-650a-4491-c7a5-6c18fe12344d"
      },
      "execution_count": 24,
      "outputs": [
        {
          "output_type": "stream",
          "name": "stderr",
          "text": [
            "WARNING:matplotlib.image:Clipping input data to the valid range for imshow with RGB data ([0..1] for floats or [0..255] for integers).\n"
          ]
        },
        {
          "output_type": "display_data",
          "data": {
            "text/plain": [
              "<Figure size 640x480 with 1 Axes>"
            ],
            "image/png": "[encoded data removed]"
          },
          "metadata": {}
        },
        {
          "output_type": "stream",
          "name": "stdout",
          "text": [
            "time: 222 ms (started: 2023-12-02 02:37:43 +00:00)\n"
          ]
        }
      ]
    },
    {
      "cell_type": "code",
      "source": [
        "train_loader = torch.utils.data.DataLoader(transformed_cifar10_train, batch_size=64, shuffle=True)\n",
        "\n",
        "model = nn.Sequential(nn.Linear(3072, 1024), nn.Tanh(), nn.Linear(1024, 512), nn.Tanh(), nn.Linear(512, 128), nn.Tanh(), nn.Linear(128, 10))\n",
        "\n",
        "optimizer = optim.SGD(model.parameters(), lr=1e-3)\n",
        "\n",
        "loss_fn = nn.CrossEntropyLoss()\n",
        "\n",
        "n_epochs = 300"
      ],
      "metadata": {
        "id": "yhq4Go_FKVHZ",
        "colab": {
          "base_uri": "https://localhost:8080/"
        },
        "outputId": "e6172dad-3577-4ba5-d221-ec5df16cf167"
      },
      "execution_count": 25,
      "outputs": [
        {
          "output_type": "stream",
          "name": "stdout",
          "text": [
            "time: 36.6 ms (started: 2023-12-02 02:37:47 +00:00)\n"
          ]
        }
      ]
    },
    {
      "cell_type": "code",
      "source": [
        "for epoch in range(n_epochs):\n",
        "  for imgs, labels in train_loader:\n",
        "    batch_size = imgs.shape[0]\n",
        "    outputs = model(imgs.view(batch_size, -1))\n",
        "    loss = loss_fn(outputs, labels)\n",
        "\n",
        "    optimizer.zero_grad()\n",
        "    loss.backward()\n",
        "    optimizer.step()\n",
        "\n",
        "  print(\"Epoch: %d, Loss: %f\" % (epoch, float(loss)))"
      ],
      "metadata": {
        "colab": {
          "base_uri": "https://localhost:8080/"
        },
        "id": "wnkUrFzKNE4H",
        "outputId": "df3aafa9-5c08-441b-8b85-7d20fd643fd3"
      },
      "execution_count": 26,
      "outputs": [
        {
          "output_type": "stream",
          "name": "stdout",
          "text": [
            "Epoch: 0, Loss: 2.050289\n",
            "Epoch: 1, Loss: 1.922693\n",
            "Epoch: 2, Loss: 2.029209\n",
            "Epoch: 3, Loss: 1.781149\n",
            "Epoch: 4, Loss: 1.874188\n",
            "Epoch: 5, Loss: 1.783465\n",
            "Epoch: 6, Loss: 2.315026\n",
            "Epoch: 7, Loss: 1.739989\n",
            "Epoch: 8, Loss: 1.464028\n",
            "Epoch: 9, Loss: 1.418788\n",
            "Epoch: 10, Loss: 2.373549\n",
            "Epoch: 11, Loss: 1.793804\n",
            "Epoch: 12, Loss: 1.812761\n",
            "Epoch: 13, Loss: 2.118927\n",
            "Epoch: 14, Loss: 1.349009\n",
            "Epoch: 15, Loss: 1.823378\n",
            "Epoch: 16, Loss: 1.762349\n",
            "Epoch: 17, Loss: 1.289120\n",
            "Epoch: 18, Loss: 1.946903\n",
            "Epoch: 19, Loss: 2.145898\n",
            "Epoch: 20, Loss: 1.552913\n",
            "Epoch: 21, Loss: 1.348760\n",
            "Epoch: 22, Loss: 1.507125\n",
            "Epoch: 23, Loss: 1.322017\n",
            "Epoch: 24, Loss: 1.357930\n",
            "Epoch: 25, Loss: 1.570827\n",
            "Epoch: 26, Loss: 1.466363\n",
            "Epoch: 27, Loss: 1.568586\n",
            "Epoch: 28, Loss: 2.154317\n",
            "Epoch: 29, Loss: 1.623081\n",
            "Epoch: 30, Loss: 1.753347\n",
            "Epoch: 31, Loss: 1.256924\n",
            "Epoch: 32, Loss: 1.522239\n",
            "Epoch: 33, Loss: 1.784459\n",
            "Epoch: 34, Loss: 1.517133\n",
            "Epoch: 35, Loss: 1.341196\n",
            "Epoch: 36, Loss: 1.337351\n",
            "Epoch: 37, Loss: 1.571165\n",
            "Epoch: 38, Loss: 2.117558\n",
            "Epoch: 39, Loss: 1.229221\n",
            "Epoch: 40, Loss: 1.146082\n",
            "Epoch: 41, Loss: 1.567697\n",
            "Epoch: 42, Loss: 1.505773\n",
            "Epoch: 43, Loss: 1.730746\n",
            "Epoch: 44, Loss: 1.612764\n",
            "Epoch: 45, Loss: 1.514560\n",
            "Epoch: 46, Loss: 1.316435\n",
            "Epoch: 47, Loss: 1.725538\n",
            "Epoch: 48, Loss: 1.468186\n",
            "Epoch: 49, Loss: 1.590386\n",
            "Epoch: 50, Loss: 1.731076\n",
            "Epoch: 51, Loss: 1.402895\n",
            "Epoch: 52, Loss: 1.292562\n",
            "Epoch: 53, Loss: 1.363955\n",
            "Epoch: 54, Loss: 1.591197\n",
            "Epoch: 55, Loss: 1.347448\n",
            "Epoch: 56, Loss: 1.987547\n",
            "Epoch: 57, Loss: 1.302078\n",
            "Epoch: 58, Loss: 1.600694\n",
            "Epoch: 59, Loss: 1.724640\n",
            "Epoch: 60, Loss: 1.055600\n",
            "Epoch: 61, Loss: 1.204991\n",
            "Epoch: 62, Loss: 1.234228\n",
            "Epoch: 63, Loss: 1.385013\n",
            "Epoch: 64, Loss: 1.582065\n",
            "Epoch: 65, Loss: 1.365200\n",
            "Epoch: 66, Loss: 1.188589\n",
            "Epoch: 67, Loss: 1.103163\n",
            "Epoch: 68, Loss: 1.835340\n",
            "Epoch: 69, Loss: 1.165077\n",
            "Epoch: 70, Loss: 1.448980\n",
            "Epoch: 71, Loss: 1.703228\n",
            "Epoch: 72, Loss: 2.025950\n",
            "Epoch: 73, Loss: 1.198220\n",
            "Epoch: 74, Loss: 1.507701\n",
            "Epoch: 75, Loss: 1.246658\n",
            "Epoch: 76, Loss: 0.939604\n",
            "Epoch: 77, Loss: 1.278526\n",
            "Epoch: 78, Loss: 1.841564\n",
            "Epoch: 79, Loss: 1.200841\n",
            "Epoch: 80, Loss: 1.805849\n",
            "Epoch: 81, Loss: 1.317785\n",
            "Epoch: 82, Loss: 1.248519\n",
            "Epoch: 83, Loss: 1.124537\n",
            "Epoch: 84, Loss: 1.144713\n",
            "Epoch: 85, Loss: 1.457385\n",
            "Epoch: 86, Loss: 1.264337\n",
            "Epoch: 87, Loss: 0.825730\n",
            "Epoch: 88, Loss: 1.330262\n",
            "Epoch: 89, Loss: 0.937179\n",
            "Epoch: 90, Loss: 0.906328\n",
            "Epoch: 91, Loss: 1.107942\n",
            "Epoch: 92, Loss: 1.696595\n",
            "Epoch: 93, Loss: 1.169781\n",
            "Epoch: 94, Loss: 1.506086\n",
            "Epoch: 95, Loss: 1.423569\n",
            "Epoch: 96, Loss: 1.151867\n",
            "Epoch: 97, Loss: 0.855581\n",
            "Epoch: 98, Loss: 1.707224\n",
            "Epoch: 99, Loss: 1.127920\n",
            "Epoch: 100, Loss: 0.946193\n",
            "Epoch: 101, Loss: 1.244447\n",
            "Epoch: 102, Loss: 1.236490\n",
            "Epoch: 103, Loss: 0.974234\n",
            "Epoch: 104, Loss: 0.958595\n",
            "Epoch: 105, Loss: 1.587666\n",
            "Epoch: 106, Loss: 1.443332\n",
            "Epoch: 107, Loss: 1.262697\n",
            "Epoch: 108, Loss: 0.780142\n",
            "Epoch: 109, Loss: 1.468732\n",
            "Epoch: 110, Loss: 0.782162\n",
            "Epoch: 111, Loss: 0.626189\n",
            "Epoch: 112, Loss: 0.828733\n",
            "Epoch: 113, Loss: 1.071790\n",
            "Epoch: 114, Loss: 0.806360\n",
            "Epoch: 115, Loss: 1.220241\n",
            "Epoch: 116, Loss: 1.051496\n",
            "Epoch: 117, Loss: 0.949714\n",
            "Epoch: 118, Loss: 1.230811\n",
            "Epoch: 119, Loss: 0.750042\n",
            "Epoch: 120, Loss: 0.500076\n",
            "Epoch: 121, Loss: 0.876251\n",
            "Epoch: 122, Loss: 0.880748\n",
            "Epoch: 123, Loss: 0.736284\n",
            "Epoch: 124, Loss: 1.148517\n",
            "Epoch: 125, Loss: 0.919740\n",
            "Epoch: 126, Loss: 0.965699\n",
            "Epoch: 127, Loss: 0.764681\n",
            "Epoch: 128, Loss: 1.272875\n",
            "Epoch: 129, Loss: 0.764595\n",
            "Epoch: 130, Loss: 0.643839\n",
            "Epoch: 131, Loss: 0.853219\n",
            "Epoch: 132, Loss: 1.006281\n",
            "Epoch: 133, Loss: 0.745200\n",
            "Epoch: 134, Loss: 0.665771\n",
            "Epoch: 135, Loss: 0.772994\n",
            "Epoch: 136, Loss: 1.033799\n",
            "Epoch: 137, Loss: 0.487513\n",
            "Epoch: 138, Loss: 0.368054\n",
            "Epoch: 139, Loss: 0.497783\n",
            "Epoch: 140, Loss: 0.657120\n",
            "Epoch: 141, Loss: 0.984412\n",
            "Epoch: 142, Loss: 0.532387\n",
            "Epoch: 143, Loss: 0.775042\n",
            "Epoch: 144, Loss: 0.396890\n",
            "Epoch: 145, Loss: 0.688349\n",
            "Epoch: 146, Loss: 0.960836\n",
            "Epoch: 147, Loss: 1.049570\n",
            "Epoch: 148, Loss: 0.497978\n",
            "Epoch: 149, Loss: 0.641187\n",
            "Epoch: 150, Loss: 0.821024\n",
            "Epoch: 151, Loss: 0.493088\n",
            "Epoch: 152, Loss: 0.387561\n",
            "Epoch: 153, Loss: 0.880789\n",
            "Epoch: 154, Loss: 0.303900\n",
            "Epoch: 155, Loss: 0.431125\n",
            "Epoch: 156, Loss: 0.807454\n",
            "Epoch: 157, Loss: 0.253206\n",
            "Epoch: 158, Loss: 0.936112\n",
            "Epoch: 159, Loss: 0.615223\n",
            "Epoch: 160, Loss: 0.963249\n",
            "Epoch: 161, Loss: 0.686333\n",
            "Epoch: 162, Loss: 0.367630\n",
            "Epoch: 163, Loss: 0.358515\n",
            "Epoch: 164, Loss: 0.615687\n",
            "Epoch: 165, Loss: 0.319054\n",
            "Epoch: 166, Loss: 0.198980\n",
            "Epoch: 167, Loss: 0.279821\n",
            "Epoch: 168, Loss: 0.541156\n",
            "Epoch: 169, Loss: 0.372049\n",
            "Epoch: 170, Loss: 0.399537\n",
            "Epoch: 171, Loss: 0.447125\n",
            "Epoch: 172, Loss: 0.575008\n",
            "Epoch: 173, Loss: 0.389139\n",
            "Epoch: 174, Loss: 0.409714\n",
            "Epoch: 175, Loss: 0.176538\n",
            "Epoch: 176, Loss: 0.538762\n",
            "Epoch: 177, Loss: 0.245815\n",
            "Epoch: 178, Loss: 0.580977\n",
            "Epoch: 179, Loss: 0.214410\n",
            "Epoch: 180, Loss: 0.346123\n",
            "Epoch: 181, Loss: 0.320158\n",
            "Epoch: 182, Loss: 0.394797\n",
            "Epoch: 183, Loss: 0.433559\n",
            "Epoch: 184, Loss: 0.224539\n",
            "Epoch: 185, Loss: 0.270998\n",
            "Epoch: 186, Loss: 0.269178\n",
            "Epoch: 187, Loss: 0.477185\n",
            "Epoch: 188, Loss: 0.150042\n",
            "Epoch: 189, Loss: 0.221910\n",
            "Epoch: 190, Loss: 0.283052\n",
            "Epoch: 191, Loss: 0.270736\n",
            "Epoch: 192, Loss: 0.167134\n",
            "Epoch: 193, Loss: 0.328826\n",
            "Epoch: 194, Loss: 0.480334\n",
            "Epoch: 195, Loss: 0.300821\n",
            "Epoch: 196, Loss: 0.190087\n",
            "Epoch: 197, Loss: 0.164989\n",
            "Epoch: 198, Loss: 0.495052\n",
            "Epoch: 199, Loss: 0.193743\n",
            "Epoch: 200, Loss: 0.075785\n",
            "Epoch: 201, Loss: 0.100835\n",
            "Epoch: 202, Loss: 0.215480\n",
            "Epoch: 203, Loss: 0.097038\n",
            "Epoch: 204, Loss: 0.109769\n",
            "Epoch: 205, Loss: 0.258604\n",
            "Epoch: 206, Loss: 0.094475\n",
            "Epoch: 207, Loss: 0.088507\n",
            "Epoch: 208, Loss: 0.293119\n",
            "Epoch: 209, Loss: 0.093256\n",
            "Epoch: 210, Loss: 0.124811\n",
            "Epoch: 211, Loss: 0.094249\n",
            "Epoch: 212, Loss: 0.167226\n",
            "Epoch: 213, Loss: 0.047896\n",
            "Epoch: 214, Loss: 0.147461\n",
            "Epoch: 215, Loss: 0.111442\n",
            "Epoch: 216, Loss: 0.070046\n",
            "Epoch: 217, Loss: 0.104448\n",
            "Epoch: 218, Loss: 0.044323\n",
            "Epoch: 219, Loss: 0.052641\n",
            "Epoch: 220, Loss: 0.202398\n",
            "Epoch: 221, Loss: 0.020644\n",
            "Epoch: 222, Loss: 0.086946\n",
            "Epoch: 223, Loss: 0.124705\n",
            "Epoch: 224, Loss: 0.105546\n",
            "Epoch: 225, Loss: 0.044411\n",
            "Epoch: 226, Loss: 0.039822\n",
            "Epoch: 227, Loss: 0.045832\n",
            "Epoch: 228, Loss: 0.049999\n",
            "Epoch: 229, Loss: 0.039759\n",
            "Epoch: 230, Loss: 0.029608\n",
            "Epoch: 231, Loss: 0.117589\n",
            "Epoch: 232, Loss: 0.073694\n",
            "Epoch: 233, Loss: 0.325069\n",
            "Epoch: 234, Loss: 0.063050\n",
            "Epoch: 235, Loss: 0.064682\n",
            "Epoch: 236, Loss: 0.065780\n",
            "Epoch: 237, Loss: 0.068946\n",
            "Epoch: 238, Loss: 0.049993\n",
            "Epoch: 239, Loss: 0.074579\n",
            "Epoch: 240, Loss: 0.043917\n",
            "Epoch: 241, Loss: 0.036641\n",
            "Epoch: 242, Loss: 0.044374\n",
            "Epoch: 243, Loss: 0.052868\n",
            "Epoch: 244, Loss: 0.027629\n",
            "Epoch: 245, Loss: 0.037837\n",
            "Epoch: 246, Loss: 0.045988\n",
            "Epoch: 247, Loss: 0.025975\n",
            "Epoch: 248, Loss: 0.049513\n",
            "Epoch: 249, Loss: 0.046661\n",
            "Epoch: 250, Loss: 0.051616\n",
            "Epoch: 251, Loss: 0.037183\n",
            "Epoch: 252, Loss: 0.045656\n",
            "Epoch: 253, Loss: 0.013360\n",
            "Epoch: 254, Loss: 0.021886\n",
            "Epoch: 255, Loss: 0.024200\n",
            "Epoch: 256, Loss: 0.014742\n",
            "Epoch: 257, Loss: 0.031227\n",
            "Epoch: 258, Loss: 0.022340\n",
            "Epoch: 259, Loss: 0.023881\n",
            "Epoch: 260, Loss: 0.016443\n",
            "Epoch: 261, Loss: 0.028572\n",
            "Epoch: 262, Loss: 0.029086\n",
            "Epoch: 263, Loss: 0.031304\n",
            "Epoch: 264, Loss: 0.026480\n",
            "Epoch: 265, Loss: 0.027858\n",
            "Epoch: 266, Loss: 0.016720\n",
            "Epoch: 267, Loss: 0.022073\n",
            "Epoch: 268, Loss: 0.021823\n",
            "Epoch: 269, Loss: 0.010480\n",
            "Epoch: 270, Loss: 0.021422\n",
            "Epoch: 271, Loss: 0.036251\n",
            "Epoch: 272, Loss: 0.024028\n",
            "Epoch: 273, Loss: 0.009349\n",
            "Epoch: 274, Loss: 0.028658\n",
            "Epoch: 275, Loss: 0.031417\n",
            "Epoch: 276, Loss: 0.014614\n",
            "Epoch: 277, Loss: 0.015685\n",
            "Epoch: 278, Loss: 0.014643\n",
            "Epoch: 279, Loss: 0.019240\n",
            "Epoch: 280, Loss: 0.010851\n",
            "Epoch: 281, Loss: 0.020131\n",
            "Epoch: 282, Loss: 0.010738\n",
            "Epoch: 283, Loss: 0.018447\n",
            "Epoch: 284, Loss: 0.011864\n",
            "Epoch: 285, Loss: 0.019951\n",
            "Epoch: 286, Loss: 0.019555\n",
            "Epoch: 287, Loss: 0.014596\n",
            "Epoch: 288, Loss: 0.027687\n",
            "Epoch: 289, Loss: 0.016278\n",
            "Epoch: 290, Loss: 0.015924\n",
            "Epoch: 291, Loss: 0.075879\n",
            "Epoch: 292, Loss: 0.011997\n",
            "Epoch: 293, Loss: 0.010568\n",
            "Epoch: 294, Loss: 0.031300\n",
            "Epoch: 295, Loss: 0.009981\n",
            "Epoch: 296, Loss: 0.009198\n",
            "Epoch: 297, Loss: 0.010642\n",
            "Epoch: 298, Loss: 0.007777\n",
            "Epoch: 299, Loss: 0.013635\n",
            "time: 3h 5min 1s (started: 2023-12-02 02:37:54 +00:00)\n"
          ]
        }
      ]
    },
    {
      "cell_type": "code",
      "source": [
        "\n",
        "correct = 0\n",
        "total = 0\n",
        "\n",
        "with torch.no_grad():\n",
        "    for imgs, labels in train_loader:\n",
        "        batch_size = imgs.shape[0]\n",
        "        outputs_training = model(imgs.view(batch_size, -1))\n",
        "        _, predicted = torch.max(outputs_training, dim=1)\n",
        "        total += labels.shape[0]\n",
        "        correct += int((predicted == labels).sum())\n",
        "\n",
        "print(\"Accuracy: %f\" % (correct / total))"
      ],
      "metadata": {
        "colab": {
          "base_uri": "https://localhost:8080/"
        },
        "id": "UdROQ9uFOkqU",
        "outputId": "9b4dadf3-652c-451d-e1e6-af0fcbf6bd28"
      },
      "execution_count": 27,
      "outputs": [
        {
          "output_type": "stream",
          "name": "stdout",
          "text": [
            "Accuracy: 1.000000\n",
            "time: 27.2 s (started: 2023-12-02 05:51:15 +00:00)\n"
          ]
        }
      ]
    },
    {
      "cell_type": "code",
      "source": [
        "test_loader = torch.utils.data.DataLoader(transformed_cifar10_test, batch_size=64, shuffle=False)\n",
        "\n",
        "correct = 0\n",
        "total = 0\n",
        "\n",
        "with torch.no_grad():\n",
        "    for imgs, labels in test_loader:\n",
        "        batch_size = imgs.shape[0]\n",
        "        outputs_testing = model(imgs.view(batch_size, -1))\n",
        "        _, predicted = torch.max(outputs_testing, dim=1)\n",
        "        total += labels.shape[0]\n",
        "        correct += int((predicted == labels).sum())\n",
        "\n",
        "print(\"Accuracy1: %f\" % (correct / total))"
      ],
      "metadata": {
        "colab": {
          "base_uri": "https://localhost:8080/"
        },
        "id": "sZfg5USnS1LX",
        "outputId": "5aad3d65-cd7a-4a71-fb2c-2d6ad4a94575"
      },
      "execution_count": 28,
      "outputs": [
        {
          "output_type": "stream",
          "name": "stdout",
          "text": [
            "Accuracy1: 0.452500\n",
            "time: 6.17 s (started: 2023-12-02 05:51:46 +00:00)\n"
          ]
        }
      ]
    },
    {
      "cell_type": "code",
      "source": [
        "print(sum([p.numel() for p in model.parameters()]))"
      ],
      "metadata": {
        "colab": {
          "base_uri": "https://localhost:8080/"
        },
        "id": "OhXiOqGNDMsB",
        "outputId": "ec6418e6-96ee-4de2-bcf9-cc60f2964f9f"
      },
      "execution_count": 29,
      "outputs": [
        {
          "output_type": "stream",
          "name": "stdout",
          "text": [
            "3738506\n",
            "time: 1.59 ms (started: 2023-12-02 05:51:57 +00:00)\n"
          ]
        }
      ]
    }
  ]
}